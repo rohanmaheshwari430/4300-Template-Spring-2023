{
 "cells": [
  {
   "cell_type": "code",
   "execution_count": 2,
   "metadata": {},
   "outputs": [],
   "source": [
    "import pandas as pd\n",
    "from azapi import AZlyrics\n",
    "import json\n",
    "import requests\n",
    "from IPython.display import clear_output\n",
    "import re\n"
   ]
  },
  {
   "cell_type": "code",
   "execution_count": 4,
   "metadata": {},
   "outputs": [],
   "source": [
    "def get_file_contents(filename):\n",
    "    \"\"\" Given a filename,\n",
    "        return the contents of that file\n",
    "    \"\"\"\n",
    "    try:\n",
    "        with open(filename, 'r') as f:\n",
    "            # It's assumed our file contains a single line,\n",
    "            # with our API key\n",
    "            return f.read().strip()\n",
    "    except FileNotFoundError:\n",
    "        print(\"'%s' file not found\" % filename)\n",
    "\n",
    "api_key = get_file_contents('lastfm_key')"
   ]
  },
  {
   "cell_type": "code",
   "execution_count": null,
   "metadata": {},
   "outputs": [],
   "source": [
    "artists = pd.read_csv(\"artists.csv\")"
   ]
  },
  {
   "cell_type": "code",
   "execution_count": null,
   "metadata": {},
   "outputs": [],
   "source": [
    "artists.head()"
   ]
  },
  {
   "cell_type": "code",
   "execution_count": null,
   "metadata": {},
   "outputs": [],
   "source": [
    "artists.sort_values(by=['listeners_lastfm'])[:5000]\n",
    "artists.head()"
   ]
  },
  {
   "cell_type": "code",
   "execution_count": null,
   "metadata": {},
   "outputs": [],
   "source": [
    "f = open('artists.json')\n",
    "data = json.load(f)\n",
    "az_artists = pd.DataFrame(list(data.keys()),columns =['az_artist'])\n",
    "az_artists.size"
   ]
  },
  {
   "cell_type": "code",
   "execution_count": null,
   "metadata": {},
   "outputs": [],
   "source": [
    "merged = artists.merge(az_artists, how=\"inner\",left_on=\"artist_mb\", right_on=\"az_artist\")\n",
    "merged = merged[['mbid', 'artist_mb', 'artist_lastfm', 'tags_mb', 'az_artist']]\n",
    "merged['done'] = False\n",
    "merged = merged.drop_duplicates(subset=['artist_mb'])\n",
    "merged.to_csv('artists-merged.csv', index=False);\n",
    "print(merged.shape)\n",
    "merged.head(20)"
   ]
  },
  {
   "cell_type": "code",
   "execution_count": null,
   "metadata": {},
   "outputs": [],
   "source": [
    "api = AZlyrics('google')\n",
    "song_df = pd.DataFrame(columns=['mbid', 'artist_mb', 'artist_lastfm', 'tags_mb', 'az_artist', 'song', 'lyrics', 'song_mbid'])\n",
    "song_df.to_csv('songs.csv', index=False)"
   ]
  },
  {
   "cell_type": "code",
   "execution_count": 17,
   "metadata": {},
   "outputs": [
    {
     "name": "stdout",
     "output_type": "stream",
     "text": [
      "parsing song number 2 with 2 fails\n",
      "4 successed and 15 failed\n",
      "['Queen', 'Daft Punk', 'Green Day', 'Katy Perry', 'Oasis', 'Gorillaz', 'Michael Jackson', 'Maroon 5', 'Arctic Monkeys', 'U2', 'Drake', 'David Bowie', 'Britney Spears', 'Franz Ferdinand', 'Madonna']\n",
      "Pink Floyd Comfortably Numb\n",
      "Failed to find lyrics. Trying to get link from Google\n"
     ]
    },
    {
     "ename": "KeyboardInterrupt",
     "evalue": "",
     "output_type": "error",
     "traceback": [
      "\u001b[0;31m---------------------------------------------------------------------------\u001b[0m",
      "\u001b[0;31mKeyboardInterrupt\u001b[0m                         Traceback (most recent call last)",
      "\u001b[0;32m/var/folders/1r/k0jbjqjd7_vcfjtl33stvq4m0000gn/T/ipykernel_78161/1161713626.py\u001b[0m in \u001b[0;36m<module>\u001b[0;34m\u001b[0m\n\u001b[1;32m     35\u001b[0m             \u001b[0;32mtry\u001b[0m\u001b[0;34m:\u001b[0m\u001b[0;34m\u001b[0m\u001b[0;34m\u001b[0m\u001b[0m\n\u001b[1;32m     36\u001b[0m                 \u001b[0mprint\u001b[0m\u001b[0;34m(\u001b[0m\u001b[0mapi\u001b[0m\u001b[0;34m.\u001b[0m\u001b[0martist\u001b[0m\u001b[0;34m,\u001b[0m \u001b[0mapi\u001b[0m\u001b[0;34m.\u001b[0m\u001b[0mtitle\u001b[0m\u001b[0;34m)\u001b[0m\u001b[0;34m\u001b[0m\u001b[0;34m\u001b[0m\u001b[0m\n\u001b[0;32m---> 37\u001b[0;31m                 \u001b[0mlyrics\u001b[0m \u001b[0;34m=\u001b[0m \u001b[0mre\u001b[0m\u001b[0;34m.\u001b[0m\u001b[0msub\u001b[0m\u001b[0;34m(\u001b[0m\u001b[0;34mr\"\\s+\"\u001b[0m\u001b[0;34m,\u001b[0m \u001b[0;34m\" \"\u001b[0m\u001b[0;34m,\u001b[0m \u001b[0mapi\u001b[0m\u001b[0;34m.\u001b[0m\u001b[0mgetLyrics\u001b[0m\u001b[0;34m(\u001b[0m\u001b[0msleep\u001b[0m\u001b[0;34m=\u001b[0m\u001b[0;36m5\u001b[0m\u001b[0;34m)\u001b[0m\u001b[0;34m)\u001b[0m\u001b[0;34m\u001b[0m\u001b[0;34m\u001b[0m\u001b[0m\n\u001b[0m\u001b[1;32m     38\u001b[0m                 \u001b[0msong_df\u001b[0m\u001b[0;34m.\u001b[0m\u001b[0mloc\u001b[0m\u001b[0;34m[\u001b[0m\u001b[0mlen\u001b[0m\u001b[0;34m(\u001b[0m\u001b[0msong_df\u001b[0m\u001b[0;34m.\u001b[0m\u001b[0mindex\u001b[0m\u001b[0;34m)\u001b[0m\u001b[0;34m]\u001b[0m \u001b[0;34m=\u001b[0m \u001b[0mlist\u001b[0m\u001b[0;34m(\u001b[0m\u001b[0mrow\u001b[0m\u001b[0;34m[\u001b[0m\u001b[0;34m:\u001b[0m\u001b[0;34m-\u001b[0m\u001b[0;36m1\u001b[0m\u001b[0;34m]\u001b[0m\u001b[0;34m)\u001b[0m \u001b[0;34m+\u001b[0m \u001b[0;34m[\u001b[0m\u001b[0msong\u001b[0m\u001b[0;34m[\u001b[0m\u001b[0;34m'name'\u001b[0m\u001b[0;34m]\u001b[0m\u001b[0;34m,\u001b[0m \u001b[0mlyrics\u001b[0m\u001b[0;34m,\u001b[0m \u001b[0msong\u001b[0m\u001b[0;34m[\u001b[0m\u001b[0;34m'image'\u001b[0m\u001b[0;34m]\u001b[0m\u001b[0;34m[\u001b[0m\u001b[0;36m2\u001b[0m\u001b[0;34m]\u001b[0m\u001b[0;34m[\u001b[0m\u001b[0;34m\"#text\"\u001b[0m\u001b[0;34m]\u001b[0m\u001b[0;34m]\u001b[0m\u001b[0;34m\u001b[0m\u001b[0;34m\u001b[0m\u001b[0m\n\u001b[1;32m     39\u001b[0m             \u001b[0;32mexcept\u001b[0m \u001b[0mIndexError\u001b[0m\u001b[0;34m:\u001b[0m\u001b[0;34m\u001b[0m\u001b[0;34m\u001b[0m\u001b[0m\n",
      "\u001b[0;32m/Library/Frameworks/Python.framework/Versions/3.7/lib/python3.7/site-packages/azapi/azapi.py\u001b[0m in \u001b[0;36mgetLyrics\u001b[0;34m(self, url, ext, save, path, sleep)\u001b[0m\n\u001b[1;32m     81\u001b[0m                 \u001b[0mprint\u001b[0m\u001b[0;34m(\u001b[0m\u001b[0;34m'Failed to find lyrics. Trying to get link from Google'\u001b[0m\u001b[0;34m)\u001b[0m\u001b[0;34m\u001b[0m\u001b[0;34m\u001b[0m\u001b[0m\n\u001b[1;32m     82\u001b[0m                 \u001b[0mself\u001b[0m\u001b[0;34m.\u001b[0m\u001b[0msearch_engine\u001b[0m \u001b[0;34m=\u001b[0m \u001b[0;34m'google'\u001b[0m\u001b[0;34m\u001b[0m\u001b[0;34m\u001b[0m\u001b[0m\n\u001b[0;32m---> 83\u001b[0;31m                 \u001b[0mlyrics\u001b[0m \u001b[0;34m=\u001b[0m \u001b[0mself\u001b[0m\u001b[0;34m.\u001b[0m\u001b[0mgetLyrics\u001b[0m\u001b[0;34m(\u001b[0m\u001b[0murl\u001b[0m\u001b[0;34m=\u001b[0m\u001b[0murl\u001b[0m\u001b[0;34m,\u001b[0m \u001b[0mext\u001b[0m\u001b[0;34m=\u001b[0m\u001b[0mext\u001b[0m\u001b[0;34m,\u001b[0m \u001b[0msave\u001b[0m\u001b[0;34m=\u001b[0m\u001b[0msave\u001b[0m\u001b[0;34m,\u001b[0m \u001b[0mpath\u001b[0m\u001b[0;34m=\u001b[0m\u001b[0mpath\u001b[0m\u001b[0;34m,\u001b[0m \u001b[0msleep\u001b[0m\u001b[0;34m=\u001b[0m\u001b[0msleep\u001b[0m\u001b[0;34m)\u001b[0m\u001b[0;34m\u001b[0m\u001b[0;34m\u001b[0m\u001b[0m\n\u001b[0m\u001b[1;32m     84\u001b[0m                 \u001b[0mself\u001b[0m\u001b[0;34m.\u001b[0m\u001b[0msearch_engine\u001b[0m \u001b[0;34m=\u001b[0m \u001b[0;34m''\u001b[0m\u001b[0;34m\u001b[0m\u001b[0;34m\u001b[0m\u001b[0m\n\u001b[1;32m     85\u001b[0m                 \u001b[0;32mreturn\u001b[0m \u001b[0mlyrics\u001b[0m\u001b[0;34m\u001b[0m\u001b[0;34m\u001b[0m\u001b[0m\n",
      "\u001b[0;32m/Library/Frameworks/Python.framework/Versions/3.7/lib/python3.7/site-packages/azapi/azapi.py\u001b[0m in \u001b[0;36mgetLyrics\u001b[0;34m(self, url, ext, save, path, sleep)\u001b[0m\n\u001b[1;32m     44\u001b[0m \u001b[0;34m\u001b[0m\u001b[0m\n\u001b[1;32m     45\u001b[0m         \u001b[0;31m# Best cooldown is 5 sec\u001b[0m\u001b[0;34m\u001b[0m\u001b[0;34m\u001b[0m\u001b[0;34m\u001b[0m\u001b[0m\n\u001b[0;32m---> 46\u001b[0;31m         \u001b[0mtime\u001b[0m\u001b[0;34m.\u001b[0m\u001b[0msleep\u001b[0m\u001b[0;34m(\u001b[0m\u001b[0msleep\u001b[0m\u001b[0;34m)\u001b[0m\u001b[0;34m\u001b[0m\u001b[0;34m\u001b[0m\u001b[0m\n\u001b[0m\u001b[1;32m     47\u001b[0m \u001b[0;34m\u001b[0m\u001b[0m\n\u001b[1;32m     48\u001b[0m         \u001b[0mlink\u001b[0m \u001b[0;34m=\u001b[0m \u001b[0murl\u001b[0m\u001b[0;34m\u001b[0m\u001b[0;34m\u001b[0m\u001b[0m\n",
      "\u001b[0;31mKeyboardInterrupt\u001b[0m: "
     ]
    }
   ],
   "source": [
    "data = pd.read_csv(\"artists-merged.csv\")\n",
    "song_df = pd.read_csv(\"songs.csv\")\n",
    "good = []\n",
    "bad = []\n",
    "\n",
    "\n",
    "# UPDATE THIS SCRIPT TO PULL MBID OF SONGS AND USE THAT TO GET IMAGES\n",
    "# merge in from kaggle first\n",
    "for i,row in data.iterrows():\n",
    "    if not row['done']:\n",
    "        api.artist = row['az_artist']\n",
    "        count = 0\n",
    "        url = f\"http://ws.audioscrobbler.com/2.0/?method=artist.gettoptracks&artist={row['artist_lastfm']}&api_key={api_key}&format=json&limit=30\"\n",
    "        r = requests.get(url = url)\n",
    "        songs = None\n",
    "        try:\n",
    "            songs = r.json()['toptracks']['track']\n",
    "        except Exception as e:\n",
    "            print(e)\n",
    "            print(api.artist, r.json())\n",
    "            bad.append(row['az_artist'])\n",
    "            break\n",
    "        # print(songs)\n",
    "        for i,song in enumerate(songs):\n",
    "            clear_output(wait=True)\n",
    "            print(f\"parsing song number {i} with {count} fails\")\n",
    "            print(f'{len(good)} successed and {len(bad)} failed')\n",
    "            if len(bad) <= 100:\n",
    "                print(bad)\n",
    "            api.title = song['name']\n",
    "            if count >= 10:\n",
    "                print(api.artist, api.title)\n",
    "                bad.append(row['az_artist'])\n",
    "                break\n",
    "            # print(api.artist, api.title)\n",
    "            try:\n",
    "                print(api.artist, api.title)\n",
    "                lyrics = re.sub(r\"\\s+\", \" \", api.getLyrics(sleep=5))\n",
    "                song_df.loc[len(song_df.index)] = list(row[:-1]) + [song['name'], lyrics, song['image'][2][\"#text\"]]\n",
    "            except IndexError:\n",
    "                count+=1\n",
    "            except TypeError:\n",
    "                count+=1\n",
    "        \n",
    "        song_df.to_csv('songs.csv', index=False)\n",
    "        if count < 10:\n",
    "            data.at[i,'done'] = True\n",
    "            good.append(row['az_artist'])\n",
    "        data.to_csv('artists-merged.csv', index=False)\n",
    "\n"
   ]
  },
  {
   "cell_type": "code",
   "execution_count": null,
   "metadata": {},
   "outputs": [],
   "source": [
    "l = ['Rihanna', 'Eminem', 'Kanye West', 'Nirvana', 'Muse', 'Queen', 'Foo Fighters', 'Linkin Park', 'Lady Gaga', 'Daft Punk', 'Green Day', 'Katy Perry', 'Oasis', 'Gorillaz', 'Michael Jackson', 'Maroon 5', 'Arctic Monkeys', 'U2', 'Drake', 'David Bowie', 'Britney Spears', 'Franz Ferdinand', 'Madonna', 'Pink Floyd', 'Weezer', 'Snow Patrol', 'Led Zeppelin', 'Beck', 'Aerosmith', 'Metallica', 'R.E.M.', 'Blur', 'Adele', 'Nickelback']\n",
    "data.loc[data['az_artist'].isin(l), ['done']] = False\n",
    "data.head(20)\n",
    "data.to_csv('artists-merged.csv', index=False)"
   ]
  },
  {
   "cell_type": "code",
   "execution_count": 6,
   "metadata": {},
   "outputs": [],
   "source": [
    "song_df = pd.read_csv(\"songs.csv\")"
   ]
  },
  {
   "cell_type": "code",
   "execution_count": 14,
   "metadata": {},
   "outputs": [
    {
     "name": "stdout",
     "output_type": "stream",
     "text": [
      ";Ooh baby, don't you know I suffer\n",
      "Ooh baby, can't you hear me moan?\n",
      "You caught me under false pretenses\n",
      "How long before you let me go?\n",
      "\n",
      "Ooh, you set my soul alight\n",
      "Ooh, you set my soul alight\n",
      "\n",
      "Glaciers melting in the dead of night\n",
      "And the superstar's sucked into the supermassive\n",
      "(Ooh, you set my soul alight)\n",
      "Glaciers melting in the dead of night\n",
      "And the superstar's sucked into the...\n",
      "(Ooh, you set my soul...)\n",
      "Into the supermassive\n",
      "\n",
      "I thought I was a fool for no one\n",
      "Ooh baby, I'm a fool for you\n",
      "You're the queen of the superficial\n",
      "And how long before you tell the truth\n",
      "\n",
      "Ooh, you set my soul alight\n",
      "Ooh, you set my soul alight\n",
      "\n",
      "Glaciers melting in the dead of night\n",
      "And the superstar's sucked into the supermassive\n",
      "(Ooh, you set my soul alight)\n",
      "Glaciers melting in the dead of night\n",
      "And the superstar's sucked into the...\n",
      "(Ooh, you set my soul)\n",
      "Into the supermassive\n",
      "\n",
      "Supermassive black hole\n",
      "Supermassive black hole\n",
      "Supermassive black hole\n",
      "Supermassive black hole\n",
      "\n",
      "Glaciers melting in the dead of night\n",
      "And the superstar's sucked into the supermassive\n",
      "Glaciers melting in the dead of night\n",
      "And the superstar's sucked into the supermassive\n",
      "\n",
      "Glaciers melting in the dead of night\n",
      "And the superstars sucked into the supermassive\n",
      "(Ooh, you set my soul alight)\n",
      "Glaciers melting in the dead of night\n",
      "And the superstars sucked into the\n",
      "(Ooh, you set my soul...)\n",
      "Into the supermassive\n",
      "\n",
      "Supermassive black hole\n",
      "Supermassive black hole\n",
      "Supermassive black hole\n",
      "Supermassive black hole;\n"
     ]
    }
   ],
   "source": [
    "api = AZlyrics()\n",
    "api.artist='muse'\n",
    "api.title='Supermassive Black Hole'\n",
    "if api.getLyrics():\n",
    "    print(\";\" + api.getLyrics() + \";\")"
   ]
  }
 ],
 "metadata": {
  "kernelspec": {
   "display_name": "Python 3.7.6 64-bit",
   "language": "python",
   "name": "python3"
  },
  "language_info": {
   "codemirror_mode": {
    "name": "ipython",
    "version": 3
   },
   "file_extension": ".py",
   "mimetype": "text/x-python",
   "name": "python",
   "nbconvert_exporter": "python",
   "pygments_lexer": "ipython3",
   "version": "3.11.2"
  },
  "orig_nbformat": 4,
  "vscode": {
   "interpreter": {
    "hash": "aee8b7b246df8f9039afb4144a1f6fd8d2ca17a180786b69acc140d282b71a49"
   }
  }
 },
 "nbformat": 4,
 "nbformat_minor": 2
}
